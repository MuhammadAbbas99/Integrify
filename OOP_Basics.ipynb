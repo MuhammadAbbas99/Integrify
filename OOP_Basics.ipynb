{
 "cells": [
  {
   "cell_type": "code",
   "execution_count": null,
   "metadata": {},
   "outputs": [],
   "source": [
    "class House:\n",
    "    pass\n",
    "#Instantiating class\n",
    "h = House()\n",
    "print(h)\n"
   ]
  },
  {
   "cell_type": "code",
   "execution_count": null,
   "metadata": {},
   "outputs": [],
   "source": [
    "#Q: Store the pointer for h in a variable k. Print out k. \n",
    "#What do you notice about the memory location where k is stored?\n",
    "k = h\n",
    "print (k)\n",
    "# same location as object 'h'\n"
   ]
  },
  {
   "cell_type": "code",
   "execution_count": null,
   "metadata": {},
   "outputs": [],
   "source": [
    "#Q: Now remove the reference to h variable from your computer memory. Is the pointer for k also deleted?\n",
    "del h\n",
    "print(k)\n",
    "#print(h)\n",
    "# removing the reference to the object 'h' doesn't automatically remove the pointer for pointer 'k'."
   ]
  },
  {
   "cell_type": "code",
   "execution_count": null,
   "metadata": {},
   "outputs": [],
   "source": [
    "#Q:Now delete also the reference to k and create and new reference to k through the House class.\n",
    "#What do you notice about the pointer?\n",
    "del k\n",
    "f = House()\n",
    "k = f\n",
    "print (k)\n",
    "#deleting the original reference to 'k' and making a new reference to 'k' through the House class,\n",
    "#makes an entirely new memory allocation for 'k'."
   ]
  },
  {
   "cell_type": "code",
   "execution_count": 1,
   "metadata": {},
   "outputs": [
    {
     "data": {
      "text/plain": [
       "(The house has 100 sq. meters, 2 floors and location in NY,\n",
       " The house has 50 sq. meters, 1 floors and location in Istanbul)"
      ]
     },
     "execution_count": 1,
     "metadata": {},
     "output_type": "execute_result"
    }
   ],
   "source": [
    "#Initialising a class\n",
    "class House:\n",
    "    #initializing\n",
    "    def __init__(self, sqmeters, nfloors, location):\n",
    "        self.sqmeters = sqmeters\n",
    "        self.nfloors = nfloors\n",
    "        self.location = location\n",
    "        \n",
    "    def __repr__(self):\n",
    "        return (f\"The house has {self.sqmeters} sq. meters, {self.nfloors} floors and location in {self.location}\")\n",
    "        #print (f'The house has {sq.meters} \"sq. meters,\" {nfloors} floors and location in {location}')\n",
    "        #return 'The house has %s sq. meters, %s floors and location in %s' % (self.sqmeters, self.nfloors, self.location)\n",
    "        \n",
    "h_ny = House(100,2,\"NY\")\n",
    "h_istanbul = House(50,1,\"Istanbul\")\n",
    "#print(h_istanbul.nfloors)\n",
    "#print(h_istanbul)\n",
    "#print(h_ny)\n",
    "#h_ny.__repr__()\n",
    "#h_istanbul, h_ny\n",
    "h_ny, h_istanbul"
   ]
  },
  {
   "cell_type": "code",
   "execution_count": null,
   "metadata": {},
   "outputs": [],
   "source": [
    "class Point:\n",
    "    def __init__(self, x, y, z=0):\n",
    "        self.x, self.y, self.z = x, y, z\n",
    "    def __repr__(self):\n",
    "        return 'Point(x=%s, y=%s, z= %s)' % (self.x, self.y, self.z)\n",
    "p = Point(3, 4)\n",
    "p"
   ]
  },
  {
   "cell_type": "code",
   "execution_count": 3,
   "metadata": {},
   "outputs": [
    {
     "data": {
      "text/plain": [
       " the Laptop brand is Lenovo., it has good performce.it is popular."
      ]
     },
     "execution_count": 3,
     "metadata": {},
     "output_type": "execute_result"
    }
   ],
   "source": [
    "#Faizan computer calss program\n",
    "class Laptop:\n",
    "    def __init__(self, brand, performance, popularity):\n",
    "        self.brand = brand\n",
    "        self.performance = performance\n",
    "        self.popularity = popularity\n",
    "    def __repr__(self):\n",
    "        return f\" the Laptop brand is {self.brand}., it has {self.performance} performce.it is {self.popularity}.\"\n",
    "       #print f\" the Laptop brand is {self.brand}., it has {self.performance} performce.it is {self.popularity}.\"\n",
    "c1= Laptop(\"Lenovo\", \"good\",\"popular\")\n",
    "c2= Laptop(\"Apple\", \"excellent\", \"very popular somesay overrated\")\n",
    "c1"
   ]
  }
 ],
 "metadata": {
  "kernelspec": {
   "display_name": "Python 3",
   "language": "python",
   "name": "python3"
  },
  "language_info": {
   "codemirror_mode": {
    "name": "ipython",
    "version": 3
   },
   "file_extension": ".py",
   "mimetype": "text/x-python",
   "name": "python",
   "nbconvert_exporter": "python",
   "pygments_lexer": "ipython3",
   "version": "3.7.3"
  }
 },
 "nbformat": 4,
 "nbformat_minor": 2
}
