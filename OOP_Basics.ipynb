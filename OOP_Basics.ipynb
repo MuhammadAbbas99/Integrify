{
 "cells": [
  {
   "cell_type": "code",
   "execution_count": null,
   "metadata": {},
   "outputs": [],
   "source": [
    "class House:\n",
    "    pass\n",
    "#Instantiating class\n",
    "h = House()\n",
    "print(h)\n"
   ]
  },
  {
   "cell_type": "code",
   "execution_count": null,
   "metadata": {},
   "outputs": [],
   "source": [
    "#Q: Store the pointer for h in a variable k. Print out k. \n",
    "#What do you notice about the memory location where k is stored?\n",
    "k = h\n",
    "print (k)\n",
    "# same location as object 'h'\n"
   ]
  },
  {
   "cell_type": "code",
   "execution_count": null,
   "metadata": {},
   "outputs": [],
   "source": [
    "#Q: Now remove the reference to h variable from your computer memory. Is the pointer for k also deleted?\n",
    "del h\n",
    "print(k)\n",
    "#print(h)\n",
    "# removing the reference to the object 'h' doesn't automatically remove the pointer for pointer 'k'."
   ]
  },
  {
   "cell_type": "code",
   "execution_count": null,
   "metadata": {},
   "outputs": [],
   "source": [
    "#Q:Now delete also the reference to k and create and new reference to k through the House class.\n",
    "#What do you notice about the pointer?\n",
    "del k\n",
    "f = House()\n",
    "k = f\n",
    "print (k)\n",
    "#deleting the original reference to 'k' and making a new reference to 'k' through the House class,\n",
    "#makes an entirely new memory allocation for 'k'."
   ]
  },
  {
   "cell_type": "code",
   "execution_count": null,
   "metadata": {},
   "outputs": [],
   "source": [
    "#Initialising a class\n",
    "class House:\n",
    "    #initializing\n",
    "    def __init__(self, sqmeters, nfloors, location):\n",
    "        self.sqmeters = sqmeters\n",
    "        self.nfloors = nfloors\n",
    "        self.location = location\n",
    "        \n",
    "    def __repr__(self):\n",
    "        return (f\"The house has {self.sqmeters} sq. meters, {self.nfloors} floors and location in {self.location}\")\n",
    "        #print (f'The house has {sq.meters} \"sq. meters,\" {nfloors} floors and location in {location}')\n",
    "        #return 'The house has %s sq. meters, %s floors and location in %s' % (self.sqmeters, self.nfloors, self.location)\n",
    "        \n",
    "h_ny = House(100,2,\"NY\")\n",
    "h_istanbul = House(50,1,\"Istanbul\")\n",
    "#print(h_istanbul.nfloors)\n",
    "#print(h_istanbul)\n",
    "#print(h_ny)\n",
    "#h_ny.__repr__()\n",
    "#h_istanbul, h_ny\n",
    "h_ny, h_istanbul"
   ]
  },
  {
   "cell_type": "code",
   "execution_count": null,
   "metadata": {},
   "outputs": [],
   "source": [
    "class Point:\n",
    "    def __init__(self, x, y, z=0):\n",
    "        self.x, self.y, self.z = x, y, z\n",
    "    def __repr__(self):\n",
    "        return 'Point(x=%s, y=%s, z= %s)' % (self.x, self.y, self.z)\n",
    "p = Point(3, 4)\n",
    "p"
   ]
  },
  {
   "cell_type": "code",
   "execution_count": null,
   "metadata": {},
   "outputs": [],
   "source": [
    "#Faizan computer calss program\n",
    "class Laptop:\n",
    "    def __init__(self, brand, performance, popularity):\n",
    "        self.brand = brand\n",
    "        self.performance = performance\n",
    "        self.popularity = popularity\n",
    "    def __repr__(self):\n",
    "        return f\"the Laptop brand is {self.brand},\\nit has {self.performance} performce.\\nit is {self.popularity}.\"\n",
    "       #print f\" the Laptop brand is {self.brand}., it has {self.performance} performce.it is {self.popularity}.\"\n",
    "c1= Laptop(\"Lenovo\", \"good\",\"popular\")\n",
    "c2= Laptop(\"Apple\", \"excellent\", \"very popular somesay overrated\")\n",
    "c1"
   ]
  },
  {
   "cell_type": "code",
   "execution_count": null,
   "metadata": {},
   "outputs": [],
   "source": [
    "class mmy_decorator(object):\n",
    "\n",
    "    def __init__(self, f):\n",
    "        print(\"Decorator is initialized here with .__init__()\")\n",
    "        f() \n",
    "        print(\"Function is called in the Decorator's __init__ method (constructor)\")\n",
    "\n",
    "    def __call__(self):\n",
    "        print(\"inside my_decorator.__call__()\")\n",
    "\n",
    "@mmy_decorator\n",
    "def some_fun():\n",
    "    print(\"inside aFunction()\")"
   ]
  },
  {
   "cell_type": "code",
   "execution_count": null,
   "metadata": {},
   "outputs": [],
   "source": [
    "def calculate_sum(fucnt):\n",
    "    \n",
    "    def inner1(a, b):\n",
    "        sum = a+b\n",
    "        funct()\n",
    "        print(\"Sum of a and b is\"+sum)\n",
    "    return inner1\n",
    "\n",
    "@calculate_sum\n",
    "def my_funct():\n",
    "    print(\"Okay.\")\n",
    "#my_funct = my_funct(calculate_sum)  <--- Either this line or @calculate_sum is used\n",
    "my_funct"
   ]
  },
  {
   "cell_type": "code",
   "execution_count": null,
   "metadata": {},
   "outputs": [],
   "source": [
    "def hello_decorator(func):\n",
    "    def inner1(): \n",
    "        print(\"Hello, this is before function execution\") \n",
    "        func() \n",
    "        print(\"This is after function execution\")       \n",
    "    return inner1 \n",
    "\n",
    "#defining a function, to be called inside wrapper \n",
    "@hello_decorator\n",
    "def function_to_be_used(): \n",
    "    print(\"This is inside the function !!\") \n",
    "#function_to_be_used = hello_decorator(function_to_be_used)     <--- Either this line is used, or @hello_decorator line is used.\n",
    " \n",
    "# calling the function \n",
    "function_to_be_used()"
   ]
  }
 ],
 "metadata": {
  "kernelspec": {
   "display_name": "Python 3",
   "language": "python",
   "name": "python3"
  },
  "language_info": {
   "codemirror_mode": {
    "name": "ipython",
    "version": 3
   },
   "file_extension": ".py",
   "mimetype": "text/x-python",
   "name": "python",
   "nbconvert_exporter": "python",
   "pygments_lexer": "ipython3",
   "version": "3.7.3"
  }
 },
 "nbformat": 4,
 "nbformat_minor": 2
}
